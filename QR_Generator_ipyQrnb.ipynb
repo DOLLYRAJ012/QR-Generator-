{
  "nbformat": 4,
  "nbformat_minor": 0,
  "metadata": {
    "colab": {
      "provenance": []
    },
    "kernelspec": {
      "name": "python3",
      "display_name": "Python 3"
    },
    "language_info": {
      "name": "python"
    }
  },
  "cells": [
    {
      "cell_type": "code",
      "execution_count": 25,
      "metadata": {
        "id": "LVfVqLXxKC7y",
        "colab": {
          "base_uri": "https://localhost:8080/"
        },
        "outputId": "30445488-6e60-4baf-ca26-4f2fade07674"
      },
      "outputs": [
        {
          "output_type": "stream",
          "name": "stdout",
          "text": [
            "Requirement already satisfied: qrcode[pil] in /usr/local/lib/python3.11/dist-packages (8.0)\n",
            "Requirement already satisfied: pillow>=9.1.0 in /usr/local/lib/python3.11/dist-packages (from qrcode[pil]) (11.1.0)\n"
          ]
        }
      ],
      "source": [
        "# Install required libraries (if not install)\n",
        "!pip install qrcode[pil]\n",
        "\n",
        "import qrcode as qr\n",
        "from PIL import Image\n",
        "img= qr.make(\"https://www.youtube.com/watch?v=eDIj5LuIL4A\")\n",
        "\n",
        "qr= qrcode.QRCode(version=1,\n",
        "error_correction=qrcode.constants.ERROR_CORRECT_H,\n",
        "box_size=15, border=10,)\n",
        "\n",
        "img.save(\"YouTube.png\")"
      ]
    }
  ]
}